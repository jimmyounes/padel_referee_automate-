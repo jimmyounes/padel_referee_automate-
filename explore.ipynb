{
 "cells": [
  {
   "cell_type": "code",
   "execution_count": null,
   "id": "509bd7a8",
   "metadata": {},
   "outputs": [
    {
     "name": "stdout",
     "output_type": "stream",
     "text": [
      "licenses\n",
      "info\n",
      "categories\n",
      "images\n",
      "annotations\n"
     ]
    }
   ],
   "source": [
    "\n",
    "import json \n",
    "with open(\"padel-data-labels/labels/2022_BCN_finalF_1_ball.json\", \"r\") as f:\n",
    "            data = json.load(f)\n",
    "##Getting the keys of the json file \n",
    "for key in data : \n",
    "        print(key)      "
   ]
  },
  {
   "cell_type": "code",
   "execution_count": 4,
   "id": "7279d070",
   "metadata": {},
   "outputs": [
    {
     "name": "stdout",
     "output_type": "stream",
     "text": [
      "[{'id': 1, 'name': 'Ball', 'supercategory': ''}, {'id': 2, 'name': 'Wall', 'supercategory': ''}, {'id': 3, 'name': 'shot-event', 'supercategory': ''}, {'id': 4, 'name': 'serve-event', 'supercategory': ''}, {'id': 5, 'name': 'smash-event', 'supercategory': ''}, {'id': 6, 'name': 'forehand-event', 'supercategory': ''}, {'id': 7, 'name': 'backhand-event', 'supercategory': ''}, {'id': 8, 'name': 'other-shot-event', 'supercategory': ''}, {'id': 9, 'name': 'drop-shot-event', 'supercategory': ''}]\n"
     ]
    }
   ],
   "source": [
    "##in  our first case we will only focus on the Ball data  \n",
    "print(data[\"categories\"])"
   ]
  },
  {
   "cell_type": "code",
   "execution_count": 5,
   "id": "0a43f56f",
   "metadata": {},
   "outputs": [
    {
     "name": "stdout",
     "output_type": "stream",
     "text": [
      "{'id': 1, 'width': 1920, 'height': 1080, 'file_name': 'frame_000000.PNG', 'license': 0, 'flickr_url': '', 'coco_url': '', 'date_captured': 0}\n",
      "{'id': 2, 'width': 1920, 'height': 1080, 'file_name': 'frame_000001.PNG', 'license': 0, 'flickr_url': '', 'coco_url': '', 'date_captured': 0}\n",
      "{'id': 3, 'width': 1920, 'height': 1080, 'file_name': 'frame_000002.PNG', 'license': 0, 'flickr_url': '', 'coco_url': '', 'date_captured': 0}\n",
      "{'id': 4, 'width': 1920, 'height': 1080, 'file_name': 'frame_000003.PNG', 'license': 0, 'flickr_url': '', 'coco_url': '', 'date_captured': 0}\n",
      "{'id': 5, 'width': 1920, 'height': 1080, 'file_name': 'frame_000004.PNG', 'license': 0, 'flickr_url': '', 'coco_url': '', 'date_captured': 0}\n",
      "{'id': 6, 'width': 1920, 'height': 1080, 'file_name': 'frame_000005.PNG', 'license': 0, 'flickr_url': '', 'coco_url': '', 'date_captured': 0}\n",
      "{'id': 7, 'width': 1920, 'height': 1080, 'file_name': 'frame_000006.PNG', 'license': 0, 'flickr_url': '', 'coco_url': '', 'date_captured': 0}\n",
      "{'id': 8, 'width': 1920, 'height': 1080, 'file_name': 'frame_000007.PNG', 'license': 0, 'flickr_url': '', 'coco_url': '', 'date_captured': 0}\n",
      "{'id': 9, 'width': 1920, 'height': 1080, 'file_name': 'frame_000008.PNG', 'license': 0, 'flickr_url': '', 'coco_url': '', 'date_captured': 0}\n",
      "{'id': 10, 'width': 1920, 'height': 1080, 'file_name': 'frame_000009.PNG', 'license': 0, 'flickr_url': '', 'coco_url': '', 'date_captured': 0}\n"
     ]
    }
   ],
   "source": [
    "for image in data[\"images\"][:10]:\n",
    "    print(image)"
   ]
  },
  {
   "cell_type": "code",
   "execution_count": 6,
   "id": "47701313",
   "metadata": {},
   "outputs": [
    {
     "name": "stdout",
     "output_type": "stream",
     "text": [
      "{'id': 1, 'image_id': 1, 'category_id': 1, 'segmentation': [], 'area': 61.12679999999947, 'bbox': [864.45, 338.02, 7.98, 7.66], 'iscrowd': 0, 'attributes': {'occluded': False, 'rotation': 0.0}}\n",
      "{'id': 2, 'image_id': 2, 'category_id': 1, 'segmentation': [], 'area': 66.16719999999985, 'bbox': [867.7, 354.29, 8.24, 8.03], 'iscrowd': 0, 'attributes': {'occluded': False, 'rotation': 0.0}}\n",
      "{'id': 3, 'image_id': 3, 'category_id': 1, 'segmentation': [], 'area': 66.16720000000032, 'bbox': [867.7, 354.28, 8.24, 8.03], 'iscrowd': 0, 'attributes': {'occluded': False, 'rotation': 0.0}}\n",
      "{'id': 4, 'image_id': 4, 'category_id': 1, 'segmentation': [], 'area': 62.408400000000086, 'bbox': [868.66, 348.1, 7.94, 7.86], 'iscrowd': 0, 'attributes': {'occluded': False, 'rotation': 0.0}}\n",
      "{'id': 5, 'image_id': 5, 'category_id': 1, 'segmentation': [], 'area': 62.328999999999716, 'bbox': [869.19, 337.76, 7.94, 7.85], 'iscrowd': 0, 'attributes': {'occluded': False, 'rotation': 0.0}}\n",
      "{'id': 6, 'image_id': 6, 'category_id': 1, 'segmentation': [], 'area': 64.39999999999964, 'bbox': [869.13, 328.48, 8.0, 8.05], 'iscrowd': 0, 'attributes': {'occluded': False, 'rotation': 0.0}}\n",
      "{'id': 7, 'image_id': 7, 'category_id': 1, 'segmentation': [], 'area': 67.23959999999981, 'bbox': [869.23, 320.1, 8.22, 8.18], 'iscrowd': 0, 'attributes': {'occluded': False, 'rotation': 0.0}}\n",
      "{'id': 8, 'image_id': 8, 'category_id': 1, 'segmentation': [], 'area': 65.43599999999914, 'bbox': [869.86, 314.42, 8.2, 7.98], 'iscrowd': 0, 'attributes': {'occluded': False, 'rotation': 0.0}}\n",
      "{'id': 9, 'image_id': 9, 'category_id': 1, 'segmentation': [], 'area': 65.59790000000037, 'bbox': [869.86, 314.43, 8.21, 7.99], 'iscrowd': 0, 'attributes': {'occluded': False, 'rotation': 0.0}}\n",
      "{'id': 10, 'image_id': 10, 'category_id': 1, 'segmentation': [], 'area': 59.121699999999535, 'bbox': [870.1, 308.94, 7.81, 7.57], 'iscrowd': 0, 'attributes': {'occluded': False, 'rotation': 0.0}}\n"
     ]
    }
   ],
   "source": [
    "for annotation in data[\"annotations\"][:10]:\n",
    "    print(annotation)"
   ]
  },
  {
   "cell_type": "code",
   "execution_count": 10,
   "id": "19ab8bfd",
   "metadata": {},
   "outputs": [
    {
     "name": "stdout",
     "output_type": "stream",
     "text": [
      "{'id': 1, 'image_name': 'frame_000000.PNG', 'bbox': [864.45, 338.02, 7.98, 7.66], 'area': 61.12679999999947}\n",
      "{'id': 2, 'image_name': 'frame_000001.PNG', 'bbox': [867.7, 354.29, 8.24, 8.03], 'area': 66.16719999999985}\n",
      "{'id': 3, 'image_name': 'frame_000002.PNG', 'bbox': [867.7, 354.28, 8.24, 8.03], 'area': 66.16720000000032}\n",
      "{'id': 4, 'image_name': 'frame_000003.PNG', 'bbox': [868.66, 348.1, 7.94, 7.86], 'area': 62.408400000000086}\n",
      "{'id': 5, 'image_name': 'frame_000004.PNG', 'bbox': [869.19, 337.76, 7.94, 7.85], 'area': 62.328999999999716}\n"
     ]
    }
   ],
   "source": [
    "#create a new dict with the necessary for our model \n",
    "data_ball= {}\n",
    "for image in data[\"images\"]:\n",
    "    data_ball[image[\"id\"]] = {\"id\": image[\"id\"],\"image_name\": image[\"file_name\"] }\n",
    "for annotation in data[\"annotations\"][:10]:    \n",
    "    data_ball[annotation[\"image_id\"]][\"bbox\"] = annotation[\"bbox\"]\n",
    "    data_ball[annotation[\"image_id\"]][\"area\"] = annotation[\"area\"]\n",
    "\n",
    "for ball in list(data_ball)[:5]:\n",
    "    print(data_ball[ball])    "
   ]
  },
  {
   "cell_type": "code",
   "execution_count": null,
   "id": "14950766",
   "metadata": {},
   "outputs": [],
   "source": []
  }
 ],
 "metadata": {
  "kernelspec": {
   "display_name": "Python 3",
   "language": "python",
   "name": "python3"
  },
  "language_info": {
   "codemirror_mode": {
    "name": "ipython",
    "version": 3
   },
   "file_extension": ".py",
   "mimetype": "text/x-python",
   "name": "python",
   "nbconvert_exporter": "python",
   "pygments_lexer": "ipython3",
   "version": "3.11.5"
  }
 },
 "nbformat": 4,
 "nbformat_minor": 5
}
