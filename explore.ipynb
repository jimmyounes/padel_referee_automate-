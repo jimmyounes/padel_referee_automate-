{
 "cells": [
  {
   "cell_type": "code",
   "execution_count": 2,
   "id": "d7f82f87",
   "metadata": {},
   "outputs": [],
   "source": [
    "with open('padel-data-labels/labels/2022_BCN_FinalF_1_ball.json','r') as f :\n",
    "    data = f.read()"
   ]
  },
  {
   "cell_type": "code",
   "execution_count": null,
   "id": "76184281",
   "metadata": {},
   "outputs": [],
   "source": [
    "#Print all keys for the json file  \n",
    "for key in data.keys():\n",
    "    print(key)"
   ]
  }
 ],
 "metadata": {
  "kernelspec": {
   "display_name": "Python 3",
   "language": "python",
   "name": "python3"
  },
  "language_info": {
   "codemirror_mode": {
    "name": "ipython",
    "version": 3
   },
   "file_extension": ".py",
   "mimetype": "text/x-python",
   "name": "python",
   "nbconvert_exporter": "python",
   "pygments_lexer": "ipython3",
   "version": "3.11.5"
  }
 },
 "nbformat": 4,
 "nbformat_minor": 5
}
